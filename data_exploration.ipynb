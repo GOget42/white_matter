{
 "cells": [
  {
   "metadata": {},
   "cell_type": "code",
   "outputs": [],
   "execution_count": null,
   "source": [
    "import rasterio\n",
    "from rasterio.windows import from_bounds\n",
    "import matplotlib.pyplot as plt\n",
    "\n",
    "# Path to your GeoTIFF\n",
    "tif_path = \"EC-Earth3-Veg-LR_future/snd_LImon_EC-Earth3-Veg-LR_ssp245_r1i1p1f1_gr209802.tif\"\n",
    "\n",
    "# Laax bounding box (lon_min, lat_min, lon_max, lat_max)\n",
    "center = (46.846, 9.265)\n",
    "bbox = (9.1506, 46.8015, 9.2876, 46.8827)\n",
    "\n",
    "# Open and clip raster\n",
    "with rasterio.open(tif_path) as src:\n",
    "    window = from_bounds(*bbox, transform=src.transform)\n",
    "    data = src.read(1, window=window)\n",
    "    transform = src.window_transform(window)\n",
    "\n",
    "# Get spatial extent for plotting (left, right, bottom, top)\n",
    "left, top = transform * (0, 0)\n",
    "right, bottom = transform * (data.shape[1], data.shape[0])\n",
    "extent = [left, right, bottom, top]\n",
    "\n",
    "# Plot\n",
    "plt.imshow(data, cmap=\"coolwarm\", extent=extent, origin=\"upper\")\n",
    "plt.scatter(center[1], center[0], color=\"red\", label=\"Laax\", zorder=2)\n",
    "plt.xlabel(\"Longitude\")\n",
    "plt.ylabel(\"Latitude\")\n",
    "plt.title(\"Snow Depth (Switzerland region)\")\n",
    "plt.colorbar(label=\"Snow Depth\")\n",
    "plt.show()"
   ],
   "id": "34153a6b6cb32b35"
  },
  {
   "metadata": {},
   "cell_type": "markdown",
   "source": [
    "# Snow Depth NetCDF Validation\n",
    "\n",
    "This notebook checks that your new NetCDF contains the expected dimensions, coordinates, and data, including the **model**, **scenario**, and **realization** metadata you added.\n"
   ],
   "id": "b65e3879efaee2e6"
  },
  {
   "metadata": {},
   "cell_type": "code",
   "outputs": [],
   "execution_count": null,
   "source": [
    "# Cell 1: Imports & open dataset\n",
    "import xarray as xr\n",
    "import matplotlib.pyplot as plt\n",
    "import numpy as np\n",
    "\n",
    "# Adjust path if needed\n",
    "nc_file = \"snow_depth_prediction.nc\"\n",
    "ds = xr.open_dataset(nc_file)\n",
    "ds\n"
   ],
   "id": "4e8067e0f91f03d1"
  },
  {
   "metadata": {},
   "cell_type": "code",
   "outputs": [],
   "execution_count": null,
   "source": [
    "# Cell 2: Inspect dimensions and coords\n",
    "print(\"Dimensions:\", ds.dims)\n",
    "print(\"Coordinates on each dimension:\")\n",
    "for dim in ds.dims:\n",
    "    print(f\"  {dim}: {list(ds.coords[dim].values)[:3]} ... {list(ds.coords[dim].values)[-3:]}\")\n",
    "print(\"\\nExtra coords on 'time':\", [c for c in ds.coords if c not in ds.dims])\n"
   ],
   "id": "eac2e385d106208e"
  },
  {
   "metadata": {},
   "cell_type": "code",
   "outputs": [],
   "execution_count": null,
   "source": [
    "# Cell 3: Unique models, scenarios, realizations\n",
    "print(\"Models:\", np.unique(ds.model.values))\n",
    "print(\"Scenarios:\", np.unique(ds.scenario.values))\n",
    "print(\"Realizations:\", np.unique(ds.realization.values))\n"
   ],
   "id": "e6eec26b4f0c5027"
  },
  {
   "metadata": {},
   "cell_type": "code",
   "outputs": [],
   "execution_count": null,
   "source": [
    "# Cell 4: Time and spatial ranges\n",
    "print(\"Time range: \", ds.time.min().values, \"→\", ds.time.max().values)\n",
    "print(\"Latitude range:\", float(ds.latitude.min()), \"→\", float(ds.latitude.max()))\n",
    "print(\"Longitude range:\", float(ds.longitude.min()), \"→\", float(ds.longitude.max()))\n"
   ],
   "id": "e0bad8a184196028"
  },
  {
   "metadata": {},
   "cell_type": "code",
   "outputs": [],
   "execution_count": null,
   "source": [
    "# Cell 5: Data integrity stats\n",
    "sd = ds[\"snow_depth\"]\n",
    "print(\"Snow depth stats (min, mean, max):\",\n",
    "      float(np.nanmin(sd)), float(np.nanmean(sd)), float(np.nanmax(sd)))\n",
    "print(\"Count of missing (NaN) values:\", int(np.isnan(sd).sum()))\n"
   ],
   "id": "764cad9afb19f6b"
  },
  {
   "metadata": {},
   "cell_type": "code",
   "outputs": [],
   "execution_count": null,
   "source": [
    "# Cell 6: Mean time-series by scenario\n",
    "plt.figure(figsize=(8,4))\n",
    "\n",
    "for scen, group in sd.groupby(\"scenario\"):\n",
    "    ts = group.mean(dim=(\"latitude\", \"longitude\"))\n",
    "    ts.plot(label=scen)\n",
    "\n",
    "plt.title(\"Mean Snow Depth Over Time by SSP Scenario\")\n",
    "plt.ylabel(\"Snow Depth\")\n",
    "plt.xlabel(\"Time\")\n",
    "plt.legend()\n",
    "plt.grid(True)\n",
    "plt.show()\n"
   ],
   "id": "7672f8bdc023579"
  },
  {
   "metadata": {},
   "cell_type": "code",
   "outputs": [],
   "execution_count": null,
   "source": [
    "# Cell 6: 12-month Rolling Mean Snow Depth by SSP Scenario\n",
    "plt.figure(figsize=(8, 4))\n",
    "window = 12  # rolling window in months\n",
    "\n",
    "for scen, group in sd.groupby(\"scenario\"):\n",
    "    # compute spatial mean time series\n",
    "    ts = group.mean(dim=(\"latitude\", \"longitude\"))\n",
    "    # compute centered rolling mean\n",
    "    ts_rolling = ts.rolling(time=window, center=True).mean()\n",
    "    ts_rolling.plot(label=scen)\n",
    "\n",
    "plt.title(f\"{window}-Month Rolling Mean Snow Depth by SSP Scenario\")\n",
    "plt.ylabel(\"Snow Depth\")\n",
    "plt.xlabel(\"Time\")\n",
    "plt.legend(title=\"Scenario\")\n",
    "plt.grid(True)\n",
    "plt.show()\n"
   ],
   "id": "a0d4a9acff75dcbc"
  },
  {
   "metadata": {},
   "cell_type": "code",
   "outputs": [],
   "execution_count": null,
   "source": [
    "import xarray as xr\n",
    "import pandas as pd\n",
    "import numpy as np\n",
    "\n",
    "# Dataset öffnen\n",
    "nc_file = \"snow_depth_prediction.nc\"\n",
    "ds = xr.open_dataset(nc_file)\n",
    "\n",
    "# Grundlegende Informationen\n",
    "print(\"Dataset Info:\")\n",
    "print(f\"Dimensionen: {ds.dims}\")\n",
    "print(f\"Variablen: {list(ds.data_vars)}\")\n",
    "print(f\"Koordinaten: {list(ds.coords)}\")\n",
    "\n",
    "# Prüfen, ob Zeitstempel eindeutig sind\n",
    "time_values = ds.time.values\n",
    "unique_times = np.unique(time_values)\n",
    "print(f\"\\nZeitstempel insgesamt: {len(time_values)}\")\n",
    "print(f\"Eindeutige Zeitstempel: {len(unique_times)}\")\n",
    "print(f\"Duplikate: {len(time_values) - len(unique_times)}\")\n",
    "\n",
    "# Detaillierte Analyse der Zeitdimension\n",
    "print(\"\\nStruktur der Zeitdimension:\")\n",
    "if len(time_values) != len(unique_times):\n",
    "    time_df = pd.DataFrame({'time': time_values})\n",
    "    duplicates = time_df['time'].value_counts()\n",
    "    print(\"Anzahl der Vorkommen pro Zeitstempel (Top 10):\")\n",
    "    print(duplicates.head(10))\n",
    "\n",
    "    # Beispiel für doppelte Zeitstempel\n",
    "    duplicate_example = time_df['time'].value_counts().index[0]\n",
    "    print(f\"\\nBeispiel für einen mehrfach auftretenden Zeitstempel: {duplicate_example}\")\n",
    "\n",
    "    # Was macht diesen Zeitstempel besonders?\n",
    "    example_data = ds.sel(time=duplicate_example)\n",
    "    print(\"\\nDaten für diesen Zeitstempel:\")\n",
    "    if 'scenario' in ds.coords:\n",
    "        print(f\"Szenarien: {example_data.scenario.values}\")\n",
    "\n",
    "# Überprüfen, welche anderen Dimensionen mit dem Zeitstempel verbunden sind\n",
    "print(\"\\nStrukturanalyse für Zeitabhängigkeiten:\")\n",
    "for coord in ds.coords:\n",
    "    if coord != 'time' and ds[coord].dims == ('time',):\n",
    "        print(f\"Koordinate '{coord}' ist zeitabhängig\")\n",
    "        # Überprüfen, ob für jeden doppelten Zeitstempel unterschiedliche Werte existieren\n",
    "        if len(time_values) != len(unique_times):\n",
    "            first_duplicate = time_df['time'].value_counts().index[0]\n",
    "            duplicate_values = ds.sel(time=first_duplicate)[coord].values\n",
    "            print(f\"  Werte für den ersten doppelten Zeitstempel: {duplicate_values}\")\n",
    "\n",
    "# Snow depth Datenstruktur\n",
    "print(\"\\nSnow Depth Datenstruktur:\")\n",
    "print(f\"Form: {ds.snow_depth.shape}\")\n",
    "print(f\"Dimensionen: {ds.snow_depth.dims}\")\n",
    "\n",
    "# Datenstichprobe für einen bestimmten Zeitpunkt und ein bestimmtes Szenario\n",
    "if 'scenario' in ds.coords:\n",
    "    scenario = ds.scenario.values[0]\n",
    "    timepoint = ds.time.values[0]\n",
    "    print(f\"\\nStichprobe für Zeitpunkt {timepoint} und Szenario {scenario}:\")\n",
    "    sample = ds.snow_depth.sel(time=timepoint, scenario=scenario)\n",
    "    print(sample.values)"
   ],
   "id": "4dd31fa3bc7cb419"
  }
 ],
 "metadata": {
  "kernelspec": {
   "display_name": "Python 3",
   "language": "python",
   "name": "python3"
  },
  "language_info": {
   "codemirror_mode": {
    "name": "ipython",
    "version": 2
   },
   "file_extension": ".py",
   "mimetype": "text/x-python",
   "name": "python",
   "nbconvert_exporter": "python",
   "pygments_lexer": "ipython2",
   "version": "2.7.6"
  }
 },
 "nbformat": 4,
 "nbformat_minor": 5
}
